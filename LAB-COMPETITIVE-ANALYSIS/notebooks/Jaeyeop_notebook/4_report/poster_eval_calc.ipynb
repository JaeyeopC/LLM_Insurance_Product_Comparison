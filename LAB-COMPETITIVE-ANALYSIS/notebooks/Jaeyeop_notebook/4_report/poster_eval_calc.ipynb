{
 "cells": [
  {
   "cell_type": "markdown",
   "metadata": {},
   "source": [
    "## Metric plots for poster"
   ]
  },
  {
   "cell_type": "code",
   "execution_count": 1,
   "metadata": {},
   "outputs": [],
   "source": [
    "import pandas as pd\n",
    "from pprint import pprint\n",
    "\n",
    "v1_v3_eval = pd.read_csv(\"data/v1_v3_evaluation_result.csv\")\n",
    "v1_v4_eval = pd.read_csv(\"data/v1_v4_evaluation_result.csv\")\n",
    "v2_v3_eval = pd.read_csv(\"data/v2_v3_evaluation_result.csv\")\n",
    "v2_v4_eval = pd.read_csv(\"data/v2_v4_evaluation_result.csv\")\n",
    "\n",
    "v1_v3_mean_eval = pd.read_json(\"data/v1_v3_evaluation_result_mean.json\", typ='series').drop(['categ_mean_similarity_score'])\n",
    "v1_v3_mean_eval.index = ['mean_similarity', 'mean_comprehensiveness', 'mean_groundedness']\n",
    "v1_v3_mean_eval.index = v1_v3_mean_eval.index.str.replace('mean_similarity', 'mean_groundtruth_agreement')\n",
    "\n",
    "v1_v4_mean_eval = pd.read_json(\"data/v1_v4_evaluation_result_mean.json\", typ='series').drop(['categ_mean_similarity_score'])\n",
    "v1_v4_mean_eval.index = ['mean_similarity', 'mean_comprehensiveness', 'mean_groundedness']\n",
    "v1_v4_mean_eval.index = v1_v4_mean_eval.index.str.replace('mean_similarity', 'mean_groundtruth_agreement')\n",
    "\n",
    "v2_v3_mean_eval = pd.read_json(\"data/v2_v3_evaluation_result_mean.json\", typ='series').drop(['categ_mean_similarity_score'])\n",
    "v2_v3_mean_eval.index = ['mean_similarity', 'mean_comprehensiveness', 'mean_groundedness']\n",
    "v2_v3_mean_eval.index = v2_v3_mean_eval.index.str.replace('mean_similarity', 'mean_groundtruth_agreement')\n",
    "\n",
    "v2_v4_mean_eval = pd.read_json(\"data/v2_v4_evaluation_result_mean.json\", typ='series').drop(['categ_mean_similarity_score'])\n",
    "v2_v4_mean_eval.index = ['mean_similarity', 'mean_comprehensiveness', 'mean_groundedness']\n",
    "v2_v4_mean_eval.index = v2_v4_mean_eval.index.str.replace('mean_similarity', 'mean_groundtruth_agreement')\n",
    "\n",
    "# Combine all evaluations into a single DataFrame\n",
    "combined_eval = pd.DataFrame({\n",
    "    'v1_v3': v1_v3_mean_eval,\n",
    "    'v1_v4': v1_v4_mean_eval,\n",
    "    'v2_v3': v2_v3_mean_eval,\n",
    "    'v2_v4': v2_v4_mean_eval\n",
    "})\n"
   ]
  },
  {
   "cell_type": "markdown",
   "metadata": {},
   "source": [
    "#### Metric overview"
   ]
  },
  {
   "cell_type": "code",
   "execution_count": 2,
   "metadata": {},
   "outputs": [
    {
     "data": {
      "image/png": "[encoded data removed]",
      "text/plain": [
       "<Figure size 1000x400 with 1 Axes>"
      ]
     },
     "metadata": {},
     "output_type": "display_data"
    }
   ],
   "source": [
    "import matplotlib.pyplot as plt\n",
    "\n",
    "# Create a single figure and axis with a smaller size\n",
    "fig, ax = plt.subplots(figsize=(10, 4))\n",
    "\n",
    "# Reorder the indices to start with 'groundedness'\n",
    "reordered_indices = ['mean_groundedness', 'mean_comprehensiveness', 'mean_groundtruth_agreement']\n",
    "\n",
    "# Plot all evaluations on the same bar chart with reordered indices using slightly darker colors\n",
    "ax.bar(range(len(reordered_indices)), v1_v3_mean_eval[reordered_indices], width=0.2, label='v1_v3', align='center', color=(135/255, 206/255, 235/255))  # Slightly darker blue\n",
    "ax.bar([x + 0.2 for x in range(len(reordered_indices))], v1_v4_mean_eval[reordered_indices], width=0.2, label='v1_v4', align='center')#, color=(102/255, 205/255, 102/255))  # Slightly darker green\n",
    "ax.bar([x + 0.4 for x in range(len(reordered_indices))], v2_v3_mean_eval[reordered_indices], width=0.2, label='v2_v3', align='center')#, color=(186/255, 85/255, 211/255))  # Slightly darker purple\n",
    "ax.bar([x + 0.6 for x in range(len(reordered_indices))], v2_v4_mean_eval[reordered_indices], width=0.2, label='v2_v4', align='center')#, color=(255/255, 165/255, 79/255))  # Slightly darker orange\n",
    "\n",
    "# Set titles and labels\n",
    "ax.set_title('Metric Score Comparison')\n",
    "# ax.set_xlabel('Metrics')\n",
    "ax.set_ylabel('Scores')\n",
    "ax.set_xticks([x + 0.3 for x in range(len(reordered_indices))])\n",
    "ax.set_xticklabels(reordered_indices)\n",
    "\n",
    "# Add legend\n",
    "ax.legend()\n",
    "\n",
    "# Show the plot\n",
    "plt.tight_layout()\n",
    "plt.show()\n"
   ]
  },
  {
   "cell_type": "markdown",
   "metadata": {},
   "source": [
    "# Eval metrics per category"
   ]
  },
  {
   "cell_type": "code",
   "execution_count": 3,
   "metadata": {},
   "outputs": [
    {
     "ename": "KeyError",
     "evalue": "\"['company_list'] not found in axis\"",
     "output_type": "error",
     "traceback": [
      "\u001b[0;31m---------------------------------------------------------------------------\u001b[0m",
      "\u001b[0;31mKeyError\u001b[0m                                  Traceback (most recent call last)",
      "Cell \u001b[0;32mIn[3], line 5\u001b[0m\n\u001b[1;32m      1\u001b[0m \u001b[38;5;28;01mimport\u001b[39;00m \u001b[38;5;21;01mmatplotlib\u001b[39;00m\u001b[38;5;21;01m.\u001b[39;00m\u001b[38;5;21;01mpyplot\u001b[39;00m \u001b[38;5;28;01mas\u001b[39;00m \u001b[38;5;21;01mplt\u001b[39;00m\n\u001b[1;32m      3\u001b[0m \u001b[38;5;66;03m# Calculate mean values for all evaluation data\u001b[39;00m\n\u001b[1;32m      4\u001b[0m eval_means \u001b[38;5;241m=\u001b[39m {\n\u001b[0;32m----> 5\u001b[0m     \u001b[38;5;124m'\u001b[39m\u001b[38;5;124mv1_v3\u001b[39m\u001b[38;5;124m'\u001b[39m: \u001b[43mv1_v3_eval\u001b[49m\u001b[38;5;241;43m.\u001b[39;49m\u001b[43mdrop\u001b[49m\u001b[43m(\u001b[49m\u001b[43mcolumns\u001b[49m\u001b[38;5;241;43m=\u001b[39;49m\u001b[43m[\u001b[49m\u001b[38;5;124;43m'\u001b[39;49m\u001b[38;5;124;43mcompany_list\u001b[39;49m\u001b[38;5;124;43m'\u001b[39;49m\u001b[43m]\u001b[49m\u001b[43m)\u001b[49m\u001b[38;5;241m.\u001b[39mgroupby(\u001b[38;5;124m'\u001b[39m\u001b[38;5;124mcategory\u001b[39m\u001b[38;5;124m'\u001b[39m)[[\u001b[38;5;124m'\u001b[39m\u001b[38;5;124mgroundedness_score\u001b[39m\u001b[38;5;124m'\u001b[39m, \u001b[38;5;124m'\u001b[39m\u001b[38;5;124mcomprehensiveness_score\u001b[39m\u001b[38;5;124m'\u001b[39m, \u001b[38;5;124m'\u001b[39m\u001b[38;5;124msimilarity_score\u001b[39m\u001b[38;5;124m'\u001b[39m]]\u001b[38;5;241m.\u001b[39mmean()\u001b[38;5;241m.\u001b[39mdropna(),\n\u001b[1;32m      6\u001b[0m     \u001b[38;5;124m'\u001b[39m\u001b[38;5;124mv1_v4\u001b[39m\u001b[38;5;124m'\u001b[39m: v1_v4_eval\u001b[38;5;241m.\u001b[39mdrop(columns\u001b[38;5;241m=\u001b[39m[\u001b[38;5;124m'\u001b[39m\u001b[38;5;124mcompany_list\u001b[39m\u001b[38;5;124m'\u001b[39m])\u001b[38;5;241m.\u001b[39mgroupby(\u001b[38;5;124m'\u001b[39m\u001b[38;5;124mcategory\u001b[39m\u001b[38;5;124m'\u001b[39m)[[\u001b[38;5;124m'\u001b[39m\u001b[38;5;124mgroundedness_score\u001b[39m\u001b[38;5;124m'\u001b[39m, \u001b[38;5;124m'\u001b[39m\u001b[38;5;124mcomprehensiveness_score\u001b[39m\u001b[38;5;124m'\u001b[39m, \u001b[38;5;124m'\u001b[39m\u001b[38;5;124msimilarity_score\u001b[39m\u001b[38;5;124m'\u001b[39m]]\u001b[38;5;241m.\u001b[39mmean()\u001b[38;5;241m.\u001b[39mdropna(),\n\u001b[1;32m      7\u001b[0m     \u001b[38;5;124m'\u001b[39m\u001b[38;5;124mv2_v3\u001b[39m\u001b[38;5;124m'\u001b[39m: v2_v3_eval\u001b[38;5;241m.\u001b[39mdrop(columns\u001b[38;5;241m=\u001b[39m[\u001b[38;5;124m'\u001b[39m\u001b[38;5;124mcompany_list\u001b[39m\u001b[38;5;124m'\u001b[39m])\u001b[38;5;241m.\u001b[39mgroupby(\u001b[38;5;124m'\u001b[39m\u001b[38;5;124mcategory\u001b[39m\u001b[38;5;124m'\u001b[39m)[[\u001b[38;5;124m'\u001b[39m\u001b[38;5;124mgroundedness_score\u001b[39m\u001b[38;5;124m'\u001b[39m, \u001b[38;5;124m'\u001b[39m\u001b[38;5;124mcomprehensiveness_score\u001b[39m\u001b[38;5;124m'\u001b[39m, \u001b[38;5;124m'\u001b[39m\u001b[38;5;124msimilarity_score\u001b[39m\u001b[38;5;124m'\u001b[39m]]\u001b[38;5;241m.\u001b[39mmean()\u001b[38;5;241m.\u001b[39mdropna(),\n\u001b[1;32m      8\u001b[0m     \u001b[38;5;124m'\u001b[39m\u001b[38;5;124mv2_v4\u001b[39m\u001b[38;5;124m'\u001b[39m: v2_v4_eval\u001b[38;5;241m.\u001b[39mdrop(columns\u001b[38;5;241m=\u001b[39m[\u001b[38;5;124m'\u001b[39m\u001b[38;5;124mcompany_list\u001b[39m\u001b[38;5;124m'\u001b[39m])\u001b[38;5;241m.\u001b[39mgroupby(\u001b[38;5;124m'\u001b[39m\u001b[38;5;124mcategory\u001b[39m\u001b[38;5;124m'\u001b[39m)[[\u001b[38;5;124m'\u001b[39m\u001b[38;5;124mgroundedness_score\u001b[39m\u001b[38;5;124m'\u001b[39m, \u001b[38;5;124m'\u001b[39m\u001b[38;5;124mcomprehensiveness_score\u001b[39m\u001b[38;5;124m'\u001b[39m, \u001b[38;5;124m'\u001b[39m\u001b[38;5;124msimilarity_score\u001b[39m\u001b[38;5;124m'\u001b[39m]]\u001b[38;5;241m.\u001b[39mmean()\u001b[38;5;241m.\u001b[39mdropna()\n\u001b[1;32m      9\u001b[0m }\n\u001b[1;32m     11\u001b[0m \u001b[38;5;66;03m# Create a figure with 4 subplots horizontally\u001b[39;00m\n\u001b[1;32m     12\u001b[0m fig, axes \u001b[38;5;241m=\u001b[39m plt\u001b[38;5;241m.\u001b[39msubplots(\u001b[38;5;241m1\u001b[39m, \u001b[38;5;241m4\u001b[39m, figsize\u001b[38;5;241m=\u001b[39m(\u001b[38;5;241m24\u001b[39m, \u001b[38;5;241m8\u001b[39m))\n",
      "File \u001b[0;32m~/.pyenv/versions/test-en/lib/python3.10/site-packages/pandas/core/frame.py:5581\u001b[0m, in \u001b[0;36mDataFrame.drop\u001b[0;34m(self, labels, axis, index, columns, level, inplace, errors)\u001b[0m\n\u001b[1;32m   5433\u001b[0m \u001b[38;5;28;01mdef\u001b[39;00m \u001b[38;5;21mdrop\u001b[39m(\n\u001b[1;32m   5434\u001b[0m     \u001b[38;5;28mself\u001b[39m,\n\u001b[1;32m   5435\u001b[0m     labels: IndexLabel \u001b[38;5;241m|\u001b[39m \u001b[38;5;28;01mNone\u001b[39;00m \u001b[38;5;241m=\u001b[39m \u001b[38;5;28;01mNone\u001b[39;00m,\n\u001b[0;32m   (...)\u001b[0m\n\u001b[1;32m   5442\u001b[0m     errors: IgnoreRaise \u001b[38;5;241m=\u001b[39m \u001b[38;5;124m\"\u001b[39m\u001b[38;5;124mraise\u001b[39m\u001b[38;5;124m\"\u001b[39m,\n\u001b[1;32m   5443\u001b[0m ) \u001b[38;5;241m-\u001b[39m\u001b[38;5;241m>\u001b[39m DataFrame \u001b[38;5;241m|\u001b[39m \u001b[38;5;28;01mNone\u001b[39;00m:\n\u001b[1;32m   5444\u001b[0m \u001b[38;5;250m    \u001b[39m\u001b[38;5;124;03m\"\"\"\u001b[39;00m\n\u001b[1;32m   5445\u001b[0m \u001b[38;5;124;03m    Drop specified labels from rows or columns.\u001b[39;00m\n\u001b[1;32m   5446\u001b[0m \n\u001b[0;32m   (...)\u001b[0m\n\u001b[1;32m   5579\u001b[0m \u001b[38;5;124;03m            weight  1.0     0.8\u001b[39;00m\n\u001b[1;32m   5580\u001b[0m \u001b[38;5;124;03m    \"\"\"\u001b[39;00m\n\u001b[0;32m-> 5581\u001b[0m     \u001b[38;5;28;01mreturn\u001b[39;00m \u001b[38;5;28;43msuper\u001b[39;49m\u001b[43m(\u001b[49m\u001b[43m)\u001b[49m\u001b[38;5;241;43m.\u001b[39;49m\u001b[43mdrop\u001b[49m\u001b[43m(\u001b[49m\n\u001b[1;32m   5582\u001b[0m \u001b[43m        \u001b[49m\u001b[43mlabels\u001b[49m\u001b[38;5;241;43m=\u001b[39;49m\u001b[43mlabels\u001b[49m\u001b[43m,\u001b[49m\n\u001b[1;32m   5583\u001b[0m \u001b[43m        \u001b[49m\u001b[43maxis\u001b[49m\u001b[38;5;241;43m=\u001b[39;49m\u001b[43maxis\u001b[49m\u001b[43m,\u001b[49m\n\u001b[1;32m   5584\u001b[0m \u001b[43m        \u001b[49m\u001b[43mindex\u001b[49m\u001b[38;5;241;43m=\u001b[39;49m\u001b[43mindex\u001b[49m\u001b[43m,\u001b[49m\n\u001b[1;32m   5585\u001b[0m \u001b[43m        \u001b[49m\u001b[43mcolumns\u001b[49m\u001b[38;5;241;43m=\u001b[39;49m\u001b[43mcolumns\u001b[49m\u001b[43m,\u001b[49m\n\u001b[1;32m   5586\u001b[0m \u001b[43m        \u001b[49m\u001b[43mlevel\u001b[49m\u001b[38;5;241;43m=\u001b[39;49m\u001b[43mlevel\u001b[49m\u001b[43m,\u001b[49m\n\u001b[1;32m   5587\u001b[0m \u001b[43m        \u001b[49m\u001b[43minplace\u001b[49m\u001b[38;5;241;43m=\u001b[39;49m\u001b[43minplace\u001b[49m\u001b[43m,\u001b[49m\n\u001b[1;32m   5588\u001b[0m \u001b[43m        \u001b[49m\u001b[43merrors\u001b[49m\u001b[38;5;241;43m=\u001b[39;49m\u001b[43merrors\u001b[49m\u001b[43m,\u001b[49m\n\u001b[1;32m   5589\u001b[0m \u001b[43m    \u001b[49m\u001b[43m)\u001b[49m\n",
      "File \u001b[0;32m~/.pyenv/versions/test-en/lib/python3.10/site-packages/pandas/core/generic.py:4788\u001b[0m, in \u001b[0;36mNDFrame.drop\u001b[0;34m(self, labels, axis, index, columns, level, inplace, errors)\u001b[0m\n\u001b[1;32m   4786\u001b[0m \u001b[38;5;28;01mfor\u001b[39;00m axis, labels \u001b[38;5;129;01min\u001b[39;00m axes\u001b[38;5;241m.\u001b[39mitems():\n\u001b[1;32m   4787\u001b[0m     \u001b[38;5;28;01mif\u001b[39;00m labels \u001b[38;5;129;01mis\u001b[39;00m \u001b[38;5;129;01mnot\u001b[39;00m \u001b[38;5;28;01mNone\u001b[39;00m:\n\u001b[0;32m-> 4788\u001b[0m         obj \u001b[38;5;241m=\u001b[39m \u001b[43mobj\u001b[49m\u001b[38;5;241;43m.\u001b[39;49m\u001b[43m_drop_axis\u001b[49m\u001b[43m(\u001b[49m\u001b[43mlabels\u001b[49m\u001b[43m,\u001b[49m\u001b[43m \u001b[49m\u001b[43maxis\u001b[49m\u001b[43m,\u001b[49m\u001b[43m \u001b[49m\u001b[43mlevel\u001b[49m\u001b[38;5;241;43m=\u001b[39;49m\u001b[43mlevel\u001b[49m\u001b[43m,\u001b[49m\u001b[43m \u001b[49m\u001b[43merrors\u001b[49m\u001b[38;5;241;43m=\u001b[39;49m\u001b[43merrors\u001b[49m\u001b[43m)\u001b[49m\n\u001b[1;32m   4790\u001b[0m \u001b[38;5;28;01mif\u001b[39;00m inplace:\n\u001b[1;32m   4791\u001b[0m     \u001b[38;5;28mself\u001b[39m\u001b[38;5;241m.\u001b[39m_update_inplace(obj)\n",
      "File \u001b[0;32m~/.pyenv/versions/test-en/lib/python3.10/site-packages/pandas/core/generic.py:4830\u001b[0m, in \u001b[0;36mNDFrame._drop_axis\u001b[0;34m(self, labels, axis, level, errors, only_slice)\u001b[0m\n\u001b[1;32m   4828\u001b[0m         new_axis \u001b[38;5;241m=\u001b[39m axis\u001b[38;5;241m.\u001b[39mdrop(labels, level\u001b[38;5;241m=\u001b[39mlevel, errors\u001b[38;5;241m=\u001b[39merrors)\n\u001b[1;32m   4829\u001b[0m     \u001b[38;5;28;01melse\u001b[39;00m:\n\u001b[0;32m-> 4830\u001b[0m         new_axis \u001b[38;5;241m=\u001b[39m \u001b[43maxis\u001b[49m\u001b[38;5;241;43m.\u001b[39;49m\u001b[43mdrop\u001b[49m\u001b[43m(\u001b[49m\u001b[43mlabels\u001b[49m\u001b[43m,\u001b[49m\u001b[43m \u001b[49m\u001b[43merrors\u001b[49m\u001b[38;5;241;43m=\u001b[39;49m\u001b[43merrors\u001b[49m\u001b[43m)\u001b[49m\n\u001b[1;32m   4831\u001b[0m     indexer \u001b[38;5;241m=\u001b[39m axis\u001b[38;5;241m.\u001b[39mget_indexer(new_axis)\n\u001b[1;32m   4833\u001b[0m \u001b[38;5;66;03m# Case for non-unique axis\u001b[39;00m\n\u001b[1;32m   4834\u001b[0m \u001b[38;5;28;01melse\u001b[39;00m:\n",
      "File \u001b[0;32m~/.pyenv/versions/test-en/lib/python3.10/site-packages/pandas/core/indexes/base.py:7070\u001b[0m, in \u001b[0;36mIndex.drop\u001b[0;34m(self, labels, errors)\u001b[0m\n\u001b[1;32m   7068\u001b[0m \u001b[38;5;28;01mif\u001b[39;00m mask\u001b[38;5;241m.\u001b[39many():\n\u001b[1;32m   7069\u001b[0m     \u001b[38;5;28;01mif\u001b[39;00m errors \u001b[38;5;241m!=\u001b[39m \u001b[38;5;124m\"\u001b[39m\u001b[38;5;124mignore\u001b[39m\u001b[38;5;124m\"\u001b[39m:\n\u001b[0;32m-> 7070\u001b[0m         \u001b[38;5;28;01mraise\u001b[39;00m \u001b[38;5;167;01mKeyError\u001b[39;00m(\u001b[38;5;124mf\u001b[39m\u001b[38;5;124m\"\u001b[39m\u001b[38;5;132;01m{\u001b[39;00mlabels[mask]\u001b[38;5;241m.\u001b[39mtolist()\u001b[38;5;132;01m}\u001b[39;00m\u001b[38;5;124m not found in axis\u001b[39m\u001b[38;5;124m\"\u001b[39m)\n\u001b[1;32m   7071\u001b[0m     indexer \u001b[38;5;241m=\u001b[39m indexer[\u001b[38;5;241m~\u001b[39mmask]\n\u001b[1;32m   7072\u001b[0m \u001b[38;5;28;01mreturn\u001b[39;00m \u001b[38;5;28mself\u001b[39m\u001b[38;5;241m.\u001b[39mdelete(indexer)\n",
      "\u001b[0;31mKeyError\u001b[0m: \"['company_list'] not found in axis\""
     ]
    }
   ],
   "source": [
    "import matplotlib.pyplot as plt\n",
    "\n",
    "# Calculate mean values for all evaluation data\n",
    "eval_means = {\n",
    "    'v1_v3': v1_v3_eval.drop(columns=['company_list']).groupby('category')[['groundedness_score', 'comprehensiveness_score', 'similarity_score']].mean().dropna(),\n",
    "    'v1_v4': v1_v4_eval.drop(columns=['company_list']).groupby('category')[['groundedness_score', 'comprehensiveness_score', 'similarity_score']].mean().dropna(),\n",
    "    'v2_v3': v2_v3_eval.drop(columns=['company_list']).groupby('category')[['groundedness_score', 'comprehensiveness_score', 'similarity_score']].mean().dropna(),\n",
    "    'v2_v4': v2_v4_eval.drop(columns=['company_list']).groupby('category')[['groundedness_score', 'comprehensiveness_score', 'similarity_score']].mean().dropna()\n",
    "}\n",
    "\n",
    "# Create a figure with 4 subplots horizontally\n",
    "fig, axes = plt.subplots(1, 4, figsize=(24, 8))\n",
    "fig.suptitle('Metric Scores per Category Comparison', fontsize=24, y=1.05)\n",
    "\n",
    "# Colors for the bars\n",
    "colors = [(70/255, 40/255, 255/255, 0.6),    # Blue\n",
    "         (255/255, 120/255, 100/255, 0.5),   # Pink-Red\n",
    "         (144/255, 238/255, 144/255, 0.8)]   # Light Green\n",
    "\n",
    "# Plot each evaluation data\n",
    "for idx, (name, data) in enumerate(eval_means.items()):\n",
    "    # Sort by groundedness score\n",
    "    data_sorted = data.sort_values(by='groundedness_score', ascending=True)\n",
    "    \n",
    "    # Create horizontal bar plot\n",
    "    data_sorted.plot(kind='barh', ax=axes[idx], width=0.85, color=colors)\n",
    "    \n",
    "    # Customize each subplot\n",
    "    axes[idx].set_xlabel('Scores', fontsize=12)\n",
    "    axes[idx].set_ylabel('Category', fontsize=12)\n",
    "    axes[idx].set_title(f'{name} Evaluation', fontsize=16)\n",
    "    axes[idx].tick_params(axis='both', labelsize=10)\n",
    "    \n",
    "    # Only show legend for the last subplot\n",
    "    if idx == 3:\n",
    "        axes[idx].legend(['Groundedness', 'Comprehensiveness', 'Similarity'], \n",
    "                        loc='upper left', fontsize='small', bbox_to_anchor=(1.05, 1))\n",
    "    else:\n",
    "        axes[idx].legend().remove()\n",
    "\n",
    "plt.tight_layout()\n",
    "plt.show()"
   ]
  },
  {
   "cell_type": "markdown",
   "metadata": {},
   "source": [
    "# Dataset Overview ( company, product, category )\n",
    "- Count the number of companies and products per category "
   ]
  },
  {
   "cell_type": "code",
   "execution_count": 23,
   "metadata": {},
   "outputs": [],
   "source": [
    "import pandas as pd\n",
    "import ast\n",
    "\n",
    "v1_v3_comparison_table_for_evaluation = pd.read_csv(\"data/v1_v3_comparison_table_for_evaluation.csv\")\n",
    "v1_v4_comparison_table_for_evaluation = pd.read_csv(\"data/v1_v4_comparison_table_for_evaluation.csv\")\n",
    "v2_v3_comparison_table_for_evaluation = pd.read_csv(\"data/v2_v3_comparison_table_for_evaluation.csv\")\n",
    "v2_v4_comparison_table_for_evaluation = pd.read_csv(\"data/v2_v4_comparison_table_for_evaluation.csv\")"
   ]
  },
  {
   "cell_type": "markdown",
   "metadata": {},
   "source": [
    "### Basic Categorization Prompt(v1) + Basic/Advanced Comparison Prompt(v3/v4)"
   ]
  },
  {
   "cell_type": "markdown",
   "metadata": {},
   "source": [
    "##### v1_v3 result dataset overview"
   ]
  },
  {
   "cell_type": "code",
   "execution_count": 25,
   "metadata": {},
   "outputs": [
    {
     "name": "stdout",
     "output_type": "stream",
     "text": [
      "v1_v3 company count :  8\n",
      "v1_v3 product count :  532\n",
      "v1_v3 category count :  23\n"
     ]
    }
   ],
   "source": [
    "v1_v3_company_set = set()\n",
    "v1_v3_product_set = set()\n",
    "for idx, row in v1_v3_comparison_table_for_evaluation.iterrows():\n",
    "    v1_v3_company_set.update(ast.literal_eval(row['company_names']))\n",
    "    v1_v3_product_set.update(ast.literal_eval(row['product_names']))\n",
    "\n",
    "print('v1_v3 company count : ', len(v1_v3_company_set))\n",
    "print('v1_v3 product count : ', len(v1_v3_product_set))\n",
    "print('v1_v3 category count : ', len(v1_v3_comparison_table_for_evaluation))"
   ]
  },
  {
   "cell_type": "markdown",
   "metadata": {},
   "source": [
    "##### v1_v4 result dataset overview"
   ]
  },
  {
   "cell_type": "code",
   "execution_count": 38,
   "metadata": {},
   "outputs": [
    {
     "name": "stdout",
     "output_type": "stream",
     "text": [
      "v1_v4 company count :  8\n",
      "v1_v4 product count :  532\n",
      "v1_v4 category count :  23\n"
     ]
    }
   ],
   "source": [
    "v1_v4_company_set = set()\n",
    "v1_v4_product_set = set()\n",
    "for idx, row in v1_v4_comparison_table_for_evaluation.iterrows():\n",
    "    v1_v4_company_set.update(ast.literal_eval(row['company_names']))\n",
    "    v1_v4_product_set.update(ast.literal_eval(row['product_names']))\n",
    "\n",
    "print('v1_v4 company count : ', len(v1_v4_company_set))\n",
    "print('v1_v4 product count : ', len(v1_v4_product_set))\n",
    "print('v1_v4 category count : ', len(v1_v4_comparison_table_for_evaluation))"
   ]
  },
  {
   "cell_type": "markdown",
   "metadata": {},
   "source": [
    "### Advanced Categorization Prompt(v2) + Basic/Advanced Comparison Prompt(v3/v4)"
   ]
  },
  {
   "cell_type": "markdown",
   "metadata": {},
   "source": [
    "##### v2_v3 result dataset overview "
   ]
  },
  {
   "cell_type": "code",
   "execution_count": 40,
   "metadata": {},
   "outputs": [
    {
     "name": "stdout",
     "output_type": "stream",
     "text": [
      "v2_v3 company count :  8\n",
      "v2_v3 product count :  401\n",
      "v2_v3 category count :  23\n"
     ]
    }
   ],
   "source": [
    "v2_v3_company_set = set()\n",
    "v2_v3_product_set = set()\n",
    "for idx, row in v2_v3_comparison_table_for_evaluation.iterrows():\n",
    "    v2_v3_company_set.update(ast.literal_eval(row['company_names']))\n",
    "    v2_v3_product_set.update(ast.literal_eval(row['product_names']))\n",
    "\n",
    "print('v2_v3 company count : ', len(v2_v3_company_set))\n",
    "print('v2_v3 product count : ', len(v2_v3_product_set))\n",
    "print('v2_v3 category count : ', len(v2_v3_comparison_table_for_evaluation))"
   ]
  },
  {
   "cell_type": "markdown",
   "metadata": {},
   "source": [
    "##### v2_v4 result dataset overview "
   ]
  },
  {
   "cell_type": "code",
   "execution_count": 39,
   "metadata": {},
   "outputs": [
    {
     "name": "stdout",
     "output_type": "stream",
     "text": [
      "v2_v4 company count :  8\n",
      "v2_v4 product count :  401\n",
      "v2_v4 category count :  23\n"
     ]
    }
   ],
   "source": [
    "v2_v4_company_set = set()\n",
    "v2_v4_product_set = set()\n",
    "for idx, row in v2_v4_comparison_table_for_evaluation.iterrows():\n",
    "    v2_v4_company_set.update(ast.literal_eval(row['company_names']))\n",
    "    v2_v4_product_set.update(ast.literal_eval(row['product_names']))\n",
    "\n",
    "print('v2_v4 company count : ', len(v2_v4_company_set))\n",
    "print('v2_v4 product count : ', len(v2_v4_product_set))\n",
    "print('v2_v4 category count : ', len(v2_v4_comparison_table_for_evaluation))"
   ]
  }
 ],
 "metadata": {
  "kernelspec": {
   "display_name": "test-en",
   "language": "python",
   "name": "python3"
  },
  "language_info": {
   "codemirror_mode": {
    "name": "ipython",
    "version": 3
   },
   "file_extension": ".py",
   "mimetype": "text/x-python",
   "name": "python",
   "nbconvert_exporter": "python",
   "pygments_lexer": "ipython3",
   "version": "3.10.12"
  }
 },
 "nbformat": 4,
 "nbformat_minor": 2
}
